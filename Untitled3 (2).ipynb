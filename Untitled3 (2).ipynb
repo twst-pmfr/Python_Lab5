{
  "nbformat": 4,
  "nbformat_minor": 0,
  "metadata": {
    "colab": {
      "provenance": []
    },
    "kernelspec": {
      "name": "python3",
      "display_name": "Python 3"
    },
    "language_info": {
      "name": "python"
    }
  },
  "cells": [
    {
      "cell_type": "code",
      "source": [
        "import numpy as np\n",
        "\n",
        "# Создаем матрицу 5x5 со случайными целыми числами от 1 до 10\n",
        "matrix = np.random.randint(1, 11, size=(5, 5))\n",
        "\n",
        "# Среднее значение всех элементов матрицы\n",
        "mean_value = np.mean(matrix)\n",
        "\n",
        "# Максимальное и минимальное значения во всей матрице\n",
        "max_value = np.max(matrix)\n",
        "min_value = np.min(matrix)\n",
        "\n",
        "# Сумма по каждому столбцу\n",
        "sum_columns = np.sum(matrix, axis=0)\n",
        "\n",
        "# Вывод результатов\n",
        "print(\"Матрица:\")\n",
        "print(matrix)\n",
        "print(\"\\nСреднее значение:\", mean_value)\n",
        "print(\"Максимальный элемент:\", max_value)\n",
        "print(\"Минимальный элемент:\", min_value)\n",
        "print(\"Суммы по столбцам:\", sum_columns)"
      ],
      "metadata": {
        "colab": {
          "base_uri": "https://localhost:8080/"
        },
        "id": "ppLWubrvdfrR",
        "outputId": "fda66b63-cca8-482d-ceaa-bbd858181feb"
      },
      "execution_count": 4,
      "outputs": [
        {
          "output_type": "stream",
          "name": "stdout",
          "text": [
            "Матрица:\n",
            "[[ 7  1  4  9 10]\n",
            " [ 2  7  5  7 10]\n",
            " [ 2  2  2  9  6]\n",
            " [10  9  2  7  7]\n",
            " [ 9  3 10  9  6]]\n",
            "\n",
            "Среднее значение: 6.2\n",
            "Максимальный элемент: 10\n",
            "Минимальный элемент: 1\n",
            "Суммы по столбцам: [30 22 23 41 39]\n"
          ]
        }
      ]
    }
  ]
}